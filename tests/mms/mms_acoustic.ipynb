{
 "cells": [
  {
   "cell_type": "markdown",
   "metadata": {
    "collapsed": true
   },
   "source": [
    "# Verifiaction of acoustic modeling with the MMS method\n",
    "\n",
    "We verify the accuracy and convergence of our finite-difference acoustic modeling kernel in an heterogeneous belocity model with the MMS method"
   ]
  },
  {
   "cell_type": "markdown",
   "metadata": {},
   "source": [
    "# Seismic modelling with devito\n",
    "\n",
    "We describe here a step by step setup of seismic modelling with Devito in a simple 2D case. We will create a physical model of our domain and define a single source and an according set of receivers to model for the forward model. But first, we initialize some basic utilities."
   ]
  },
  {
   "cell_type": "code",
   "execution_count": 1,
   "metadata": {},
   "outputs": [],
   "source": [
    "from devito import *"
   ]
  },
  {
   "cell_type": "code",
   "execution_count": 2,
   "metadata": {},
   "outputs": [],
   "source": [
    "import numpy as np\n",
    "%matplotlib inline"
   ]
  },
  {
   "cell_type": "code",
   "execution_count": 3,
   "metadata": {},
   "outputs": [],
   "source": [
    "from examples.seismic import Model\n",
    "# Model with fixed time step value\n",
    "class ModelBench(Model):\n",
    "    \"\"\"\n",
    "    Physical model used for accuracy benchmarking.\n",
    "    The critical dt is made small enough to ignore\n",
    "    time discretization errors\n",
    "    \"\"\"\n",
    "\n",
    "    @property\n",
    "    def critical_dt(self):\n",
    "        \"\"\"Critical computational time step value.\"\"\"\n",
    "        return .1*self.spacing[0]"
   ]
  },
  {
   "cell_type": "code",
   "execution_count": 4,
   "metadata": {},
   "outputs": [],
   "source": [
    "# Discretization order\n",
    "orders = (2, 4, 6, 8, 10)\n",
    "norder = len(orders)\n",
    "\n",
    "# Domain sizes and gird spacing\n",
    "shapes = ((201, 2.0), (161, 2.5), (101, 4.0))\n",
    "dx = [2.0, 2.5, 4.0]\n",
    "nshapes = len(shapes)\n",
    "\n",
    "# Number of time steps\n",
    "nt = 1501\n",
    "# Time axis\n",
    "time = np.linspace(0., 150., nt)\n",
    "# Source peak frequency\n",
    "f0 = .07"
   ]
  },
  {
   "cell_type": "markdown",
   "metadata": {},
   "source": [
    "# Make a three layers velocity model"
   ]
  },
  {
   "cell_type": "code",
   "execution_count": 5,
   "metadata": {},
   "outputs": [],
   "source": [
    "v = 1.5 * np.ones((201, 201))\n",
    "v[:, 75:] = 2.5\n",
    "v[:, 125:] = 3.0\n",
    "model = ModelBench(vp=v, origin=(0., 0.), spacing=(.005, .005), shape=(201, 201), nbpml=0, space_order=0, dtype=np.float64)"
   ]
  },
  {
   "cell_type": "markdown",
   "metadata": {},
   "source": [
    "# Analytical solution definition"
   ]
  },
  {
   "cell_type": "code",
   "execution_count": 6,
   "metadata": {},
   "outputs": [],
   "source": [
    "x, z = model.grid.dimensions\n",
    "t = model.grid.time_dim"
   ]
  },
  {
   "cell_type": "code",
   "execution_count": 7,
   "metadata": {},
   "outputs": [],
   "source": [
    "from sympy import cos, sin, exp, pprint, sqrt, sin, sinc"
   ]
  },
  {
   "cell_type": "code",
   "execution_count": 8,
   "metadata": {},
   "outputs": [],
   "source": [
    "# sol = sin(2*np.pi*t.spacing*t/10)* exp(-(x.spacing*x - 100)**2/200 - (z.spacing*z - 100)**2/200)\n",
    "import sympy\n",
    "u, v, w, c = sympy.symbols('u v w c')\n",
    "sol = sin(2*np.pi*u) * sin(4*np.pi*v)* sin(2*np.pi*w)"
   ]
  },
  {
   "cell_type": "markdown",
   "metadata": {},
   "source": [
    "# Corresponding source"
   ]
  },
  {
   "cell_type": "code",
   "execution_count": 9,
   "metadata": {},
   "outputs": [],
   "source": [
    "source =  model.m*sol.diff(w, w) - sol.diff(u, u) - sol.diff(v, v)"
   ]
  },
  {
   "cell_type": "code",
   "execution_count": 10,
   "metadata": {},
   "outputs": [],
   "source": [
    "sol = sol.subs({u: x*x.spacing, v: z*z.spacing, w: t*t.spacing, c: sqrt(1/model.m)})\n",
    "source = source.subs({u: x*x.spacing, v: z*z.spacing, w: t*t.spacing, c: sqrt(1/model.m)})"
   ]
  },
  {
   "cell_type": "markdown",
   "metadata": {},
   "source": [
    "# Wave equation"
   ]
  },
  {
   "cell_type": "code",
   "execution_count": 11,
   "metadata": {},
   "outputs": [],
   "source": [
    "u = TimeFunction(name=\"u\", grid=model.grid, space_order=16, time_order=2)\n",
    "u_true = TimeFunction(name=\"utrue\", grid=model.grid, space_order=0, time_order=2)\n",
    "src = TimeFunction(name=\"src\", grid=model.grid, space_order=0, time_order=2)"
   ]
  },
  {
   "cell_type": "code",
   "execution_count": 12,
   "metadata": {},
   "outputs": [],
   "source": [
    "wave_eq = Eq(u.forward, 2 * u - u.backward + t.spacing**2/model.m * (u.laplace + src))"
   ]
  },
  {
   "cell_type": "code",
   "execution_count": 13,
   "metadata": {},
   "outputs": [],
   "source": [
    "true_eqq = Eq(u_true, sol)"
   ]
  },
  {
   "cell_type": "code",
   "execution_count": 14,
   "metadata": {},
   "outputs": [],
   "source": [
    "src_eq = Eq(src, source)"
   ]
  },
  {
   "cell_type": "code",
   "execution_count": 15,
   "metadata": {},
   "outputs": [],
   "source": [
    "# inital conditions, t=1\n",
    "u_1 = Eq(u.subs(t, 1), sol.subs(t, 1))"
   ]
  },
  {
   "cell_type": "code",
   "execution_count": 16,
   "metadata": {},
   "outputs": [
    {
     "data": {
      "text/plain": [
       "PerformanceSummary([('section0',\n",
       "                     PerfEntry(time=0.06825099999999996, gflopss=3.788463172700768, gpointss=0.236778948293798, oi=1.0843484086238993, ops=64, itershapes=[(100, 201, 201), (100, 201, 201)]))])"
      ]
     },
     "execution_count": 16,
     "metadata": {},
     "output_type": "execute_result"
    }
   ],
   "source": [
    "## from devito import configuration\n",
    "configuration[\"log_level\"] = \"ERROR\"\n",
    "h = .00125\n",
    "op = Operator([u_1, true_eqq, src_eq, wave_eq], subs=({t.spacing: .1*h, x.spacing:h, z.spacing:h}))\n",
    "op.apply(t_m=1, t_M=100)"
   ]
  },
  {
   "cell_type": "code",
   "execution_count": 17,
   "metadata": {},
   "outputs": [],
   "source": [
    "def mms_sol(model):\n",
    "    u, v, w, c = sympy.symbols('u v w c')\n",
    "    sol = sin(2*np.pi*u) * sin(4*np.pi*v)* sin(2*np.pi*w)\n",
    "    source =  model.m*sol.diff(w, w) - sol.diff(u, u) - sol.diff(v, v)\n",
    "    x, z = model.grid.dimensions\n",
    "    t = model.grid.time_dim\n",
    "    \n",
    "    sol = sol.subs({u: x*x.spacing, v: z*z.spacing, w: t*t.spacing, c: sqrt(1/model.m)})\n",
    "    source = source.subs({u: x*x.spacing, v: z*z.spacing, w: t*t.spacing, c: sqrt(1/model.m)})\n",
    "    \n",
    "    return sol, source"
   ]
  },
  {
   "cell_type": "code",
   "execution_count": 91,
   "metadata": {},
   "outputs": [],
   "source": [
    "def get_solution(size):\n",
    "    clear_cache()\n",
    "    # Model\n",
    "    v = 1.5 * np.ones((size, size))\n",
    "    v[:, 75:] = 2.5\n",
    "    v[:, 125:] = 3.0\n",
    "    model = ModelBench(vp=v, origin=(0., 0.), spacing=(.005, .005), shape=(size, size),\n",
    "                       nbpml=0, space_order=0, dtype=np.float64)\n",
    "    x, z = model.grid.dimensions\n",
    "    t = model.grid.time_dim\n",
    "    # Grid\n",
    "    h = 1./(size - 1)\n",
    "    dt = .1*h\n",
    "    nt = int(1/dt)\n",
    "    # Wave equation\n",
    "    u = TimeFunction(name=\"u\", grid=model.grid, space_order=2, time_order=2, save=nt)\n",
    "    u_true = TimeFunction(name=\"utrue\", grid=model.grid, space_order=2, time_order=0, save=nt)\n",
    "    src = TimeFunction(name=\"src\", grid=model.grid, space_order=2, time_order=0, save=nt)\n",
    "\n",
    "    sol, source = mms_sol(model)\n",
    "    \n",
    "    wave_eq = Eq(u.forward, 2 * u - u.backward + t.spacing**2/model.m * (u.laplace + src))\n",
    "    true_eqq = Eq(u_true, sol)\n",
    "\n",
    "    src_eq = Eq(src, source)\n",
    "    \n",
    "    u_1 = Eq(u.subs(t, 1), sol.subs(t, 1))\n",
    "\n",
    "    op = Operator([u_1, true_eqq, src_eq, wave_eq], subs=({t.spacing: .1*h, x.spacing:h, z.spacing:h}))\n",
    "    op.apply()\n",
    "\n",
    "    error = np.linalg.norm(u.data[(nt-3), 2:-2, 2:-2].reshape(-1) - u_true.data[(nt-3), 2:-2, 2:-2].reshape(-1), np.Inf)*h\n",
    "\n",
    "    print(\"for h = %f and dt= %f error is %f\" % (h, dt, error))"
   ]
  },
  {
   "cell_type": "markdown",
   "metadata": {},
   "source": [
    "# MMS"
   ]
  },
  {
   "cell_type": "code",
   "execution_count": 92,
   "metadata": {},
   "outputs": [
    {
     "name": "stdout",
     "output_type": "stream",
     "text": [
      "for h = 0.040000 and dt= 0.004000 error is 0.002177\n",
      "for h = 0.020000 and dt= 0.002000 error is 0.000757\n",
      "for h = 0.010000 and dt= 0.001000 error is 0.000311\n"
     ]
    }
   ],
   "source": [
    "size = [26, 51, 101]\n",
    "t = 2\n",
    "\n",
    "for s in size:\n",
    "    get_solution(s)"
   ]
  },
  {
   "cell_type": "code",
   "execution_count": 86,
   "metadata": {},
   "outputs": [
    {
     "data": {
      "text/plain": [
       "4.988593155893536"
      ]
     },
     "execution_count": 86,
     "metadata": {},
     "output_type": "execute_result"
    }
   ],
   "source": [
    "0.001312/0.000263"
   ]
  },
  {
   "cell_type": "code",
   "execution_count": null,
   "metadata": {},
   "outputs": [],
   "source": []
  }
 ],
 "metadata": {
  "kernelspec": {
   "display_name": "Python 3",
   "language": "python",
   "name": "python3"
  },
  "language_info": {
   "codemirror_mode": {
    "name": "ipython",
    "version": 3
   },
   "file_extension": ".py",
   "mimetype": "text/x-python",
   "name": "python",
   "nbconvert_exporter": "python",
   "pygments_lexer": "ipython3",
   "version": "3.6.5"
  },
  "widgets": {
   "state": {},
   "version": "1.1.2"
  }
 },
 "nbformat": 4,
 "nbformat_minor": 1
}
