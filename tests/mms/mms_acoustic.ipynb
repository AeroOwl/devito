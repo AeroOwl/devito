{
 "cells": [
  {
   "cell_type": "markdown",
   "metadata": {
    "collapsed": true
   },
   "source": [
    "# Verifiaction of acoustic modeling with the MMS method\n",
    "\n",
    "We verify the accuracy and convergence of our finite-difference acoustic modeling kernel in an heterogeneous belocity model with the MMS method"
   ]
  },
  {
   "cell_type": "markdown",
   "metadata": {},
   "source": [
    "# Seismic modelling with devito\n",
    "\n",
    "We describe here a step by step setup of seismic modelling with Devito in a simple 2D case. We will create a physical model of our domain and define a single source and an according set of receivers to model for the forward model. But first, we initialize some basic utilities."
   ]
  },
  {
   "cell_type": "code",
   "execution_count": 2,
   "metadata": {},
   "outputs": [],
   "source": [
    "from devito import *"
   ]
  },
  {
   "cell_type": "code",
   "execution_count": 3,
   "metadata": {},
   "outputs": [],
   "source": [
    "import numpy as np\n",
    "%matplotlib inline"
   ]
  },
  {
   "cell_type": "code",
   "execution_count": 4,
   "metadata": {},
   "outputs": [],
   "source": [
    "from examples.seismic import Model\n",
    "# Model with fixed time step value\n",
    "class ModelBench(Model):\n",
    "    \"\"\"\n",
    "    Physical model used for accuracy benchmarking.\n",
    "    The critical dt is made small enough to ignore\n",
    "    time discretization errors\n",
    "    \"\"\"\n",
    "\n",
    "    @property\n",
    "    def critical_dt(self):\n",
    "        \"\"\"Critical computational time step value.\"\"\"\n",
    "        return .1*self.spacing[0]"
   ]
  },
  {
   "cell_type": "code",
   "execution_count": 5,
   "metadata": {},
   "outputs": [],
   "source": [
    "# Discretization order\n",
    "orders = (2, 4, 6, 8, 10)\n",
    "norder = len(orders)\n",
    "\n",
    "# Domain sizes and gird spacing\n",
    "shapes = ((201, 2.0), (161, 2.5), (101, 4.0))\n",
    "dx = [2.0, 2.5, 4.0]\n",
    "nshapes = len(shapes)\n",
    "\n",
    "# Number of time steps\n",
    "nt = 1501\n",
    "# Time axis\n",
    "time = np.linspace(0., 150., nt)\n",
    "# Source peak frequency\n",
    "f0 = .07"
   ]
  },
  {
   "cell_type": "markdown",
   "metadata": {},
   "source": [
    "# Make a three layers velocity model"
   ]
  },
  {
   "cell_type": "code",
   "execution_count": 6,
   "metadata": {},
   "outputs": [],
   "source": [
    "v = 1.5 * np.ones((201, 201))\n",
    "v[:, 75:] = 2.5\n",
    "v[:, 125:] = 3.0\n",
    "model = ModelBench(vp=v, origin=(0., 0.), spacing=(.005, .005), shape=(201, 201), nbpml=0, space_order=0, dtype=np.float64)"
   ]
  },
  {
   "cell_type": "markdown",
   "metadata": {},
   "source": [
    "# Analytical solution definition"
   ]
  },
  {
   "cell_type": "code",
   "execution_count": 7,
   "metadata": {},
   "outputs": [],
   "source": [
    "x, z = model.grid.dimensions\n",
    "t = model.grid.time_dim"
   ]
  },
  {
   "cell_type": "code",
   "execution_count": 8,
   "metadata": {},
   "outputs": [],
   "source": [
    "from sympy import cos, sin, exp, pprint, sqrt, sin, sinc"
   ]
  },
  {
   "cell_type": "code",
   "execution_count": 9,
   "metadata": {},
   "outputs": [],
   "source": [
    "# sol = sin(2*np.pi*t.spacing*t/10)* exp(-(x.spacing*x - 100)**2/200 - (z.spacing*z - 100)**2/200)\n",
    "import sympy\n",
    "u, v, w, c = sympy.symbols('u v w c')\n",
    "sol = sin(2*np.pi*u) * sin(4*np.pi*v)* sin(2*np.pi*w)"
   ]
  },
  {
   "cell_type": "markdown",
   "metadata": {},
   "source": [
    "# Corresponding source"
   ]
  },
  {
   "cell_type": "code",
   "execution_count": 10,
   "metadata": {},
   "outputs": [],
   "source": [
    "source =  model.m*sol.diff(w, w) - sol.diff(u, u) - sol.diff(v, v)"
   ]
  },
  {
   "cell_type": "code",
   "execution_count": 11,
   "metadata": {},
   "outputs": [],
   "source": [
    "sol = sol.subs({u: x*x.spacing, v: z*z.spacing, w: t*t.spacing, c: sqrt(1/model.m)})\n",
    "source = source.subs({u: x*x.spacing, v: z*z.spacing, w: t*t.spacing, c: sqrt(1/model.m)})"
   ]
  },
  {
   "cell_type": "markdown",
   "metadata": {},
   "source": [
    "# Wave equation"
   ]
  },
  {
   "cell_type": "code",
   "execution_count": 12,
   "metadata": {},
   "outputs": [],
   "source": [
    "u = TimeFunction(name=\"u\", grid=model.grid, space_order=16, time_order=2)\n",
    "u_true = TimeFunction(name=\"utrue\", grid=model.grid, space_order=0, time_order=2)\n",
    "src = TimeFunction(name=\"src\", grid=model.grid, space_order=0, time_order=2)"
   ]
  },
  {
   "cell_type": "code",
   "execution_count": 13,
   "metadata": {},
   "outputs": [],
   "source": [
    "wave_eq = Eq(u.forward, 2 * u - u.backward + t.spacing**2/model.m * (u.laplace + src))"
   ]
  },
  {
   "cell_type": "code",
   "execution_count": 14,
   "metadata": {},
   "outputs": [],
   "source": [
    "true_eqq = Eq(u_true, sol)"
   ]
  },
  {
   "cell_type": "code",
   "execution_count": 15,
   "metadata": {},
   "outputs": [],
   "source": [
    "src_eq = Eq(src, source)"
   ]
  },
  {
   "cell_type": "code",
   "execution_count": 16,
   "metadata": {},
   "outputs": [],
   "source": [
    "# inital conditions, t=1\n",
    "u_1 = Eq(u.subs(t, 1), sol.subs(t, 1))"
   ]
  },
  {
   "cell_type": "code",
   "execution_count": 17,
   "metadata": {},
   "outputs": [
    {
     "data": {
      "text/plain": [
       "PerformanceSummary([('section0',\n",
       "                     PerfEntry(time=0.09750499999999993, gflopss=2.651827085790474, gpointss=0.16573919286190464, oi=1.0843484086238993, ops=64, itershapes=[(100, 201, 201), (100, 201, 201)]))])"
      ]
     },
     "execution_count": 17,
     "metadata": {},
     "output_type": "execute_result"
    }
   ],
   "source": [
    "## from devito import configuration\n",
    "configuration[\"log_level\"] = \"ERROR\"\n",
    "h = .00125\n",
    "op = Operator([u_1, true_eqq, src_eq, wave_eq], subs=({t.spacing: .1*h, x.spacing:h, z.spacing:h}))\n",
    "op.apply(t_m=1, t_M=100)"
   ]
  },
  {
   "cell_type": "code",
   "execution_count": 288,
   "metadata": {},
   "outputs": [],
   "source": [
    "def mms_sol(model):\n",
    "    u, v, w, c = sympy.symbols('u v w c')\n",
    "#     sol = 1e2*sin(2*np.pi*u) * sin(4*np.pi*v)* sin(6*np.pi*w)\n",
    "    sol = (1e4*sin(6*np.pi*w) * exp(-(u - .5)**2/.015 - (v-.5)**2/.015) -\n",
    "           1e3*sin(4*np.pi*w) *exp(-(u - .45)**2/.0035 - (v-.65)**2/.0035)-\n",
    "           5000*sin(8*np.pi*w) *exp(-(u - .65)**2/.0035 - (v-.45)**2/.0015)+\n",
    "           1e4*sin(6*np.pi*w) * exp(-(u - .45)**2/.0015 - (v-.45)**2/.0035)-\n",
    "           5*1e3*sin(6*np.pi*w) * exp(-(u - .65)**2/.0027 - (v-.65)**2/.0031))\n",
    "    source =  model.m*sol.diff(w, w) - sol.diff(u, u) - sol.diff(v, v)\n",
    "    x, z = model.grid.dimensions\n",
    "    t = model.grid.time_dim\n",
    "    \n",
    "    sol = sol.subs({u: x*x.spacing, v: z*z.spacing, w: t*t.spacing, c: sqrt(1/model.m)})\n",
    "    source = source.subs({u: x*x.spacing, v: z*z.spacing, w: t*t.spacing, c: sqrt(1/model.m)})\n",
    "    \n",
    "    return sol, source"
   ]
  },
  {
   "cell_type": "code",
   "execution_count": 320,
   "metadata": {},
   "outputs": [],
   "source": [
    "def get_solution(size, space_order):\n",
    "    clear_cache()\n",
    "    # Model\n",
    "    v = 1.5 * np.ones((size, size))\n",
    "    v[:, 75:] = 2.5\n",
    "    v[:, 125:] = 3.0\n",
    "    model = ModelBench(vp=v, origin=(0., 0.), spacing=(1., 1.), shape=(size, size),\n",
    "                       nbpml=0, space_order=0, dtype=np.float64)\n",
    "    x, z = model.grid.dimensions\n",
    "    t = model.grid.time_dim\n",
    "    # Grid\n",
    "    h = 1./(size - 1)\n",
    "    dt = 1e-7\n",
    "    nt = 350\n",
    "    # Wave equation\n",
    "    u = TimeFunction(name=\"u\", grid=model.grid, space_order=space_order, time_order=2, save=nt)\n",
    "    u_true = TimeFunction(name=\"utrue\", grid=model.grid, space_order=space_order, time_order=0, save=nt)\n",
    "    src = TimeFunction(name=\"src\", grid=model.grid, space_order=space_order, time_order=0, save=nt)\n",
    "\n",
    "    sol, source = mms_sol(model)\n",
    "    \n",
    "    wave_eq = Eq(u.forward, 2 * u - u.backward + t.spacing**2/model.m * (u.laplace + src))\n",
    "    true_eqq = Eq(u_true, sol)\n",
    "\n",
    "    src_eq = Eq(src, source)\n",
    "    \n",
    "    u_1 = Eq(u.subs(t, 1), sol.subs(t, 1))\n",
    "    configuration[\"log_level\"] = \"ERROR\"\n",
    "    op = Operator([u_1, true_eqq, src_eq, wave_eq], subs=({t.spacing: dt, x.spacing:h, z.spacing:h}))\n",
    "    op.apply()\n",
    "\n",
    "    error = np.linalg.norm(u.data[(nt-3), :, :].reshape(-1) -\n",
    "                           u_true.data[(nt-3), :, :].reshape(-1), 2)*h\n",
    "#     import matplotlib.pyplot as plt\n",
    "#     plt.figure()\n",
    "#     plt.subplot(131)\n",
    "#     plt.imshow(u.data[(nt-3), :, :], vmin=-.1, vmax=.1, cmap=\"seismic\")\n",
    "#     plt.subplot(132)\n",
    "#     plt.imshow(u_true.data[(nt-3), :, :], vmin=-.1, vmax=.1, cmap=\"seismic\")\n",
    "#     plt.subplot(133)\n",
    "#     plt.imshow(u.data[(nt-3), :, :] - u_true.data[(nt-3), :, :], vmin=-.1, vmax=.1, cmap=\"seismic\")\n",
    "#     plt.show()\n",
    "    print(\"for h = %f and dt= %f error is %2.4e\" % (h, dt, error))\n",
    "    return error"
   ]
  },
  {
   "cell_type": "markdown",
   "metadata": {},
   "source": [
    "# MMS"
   ]
  },
  {
   "cell_type": "code",
   "execution_count": 330,
   "metadata": {},
   "outputs": [
    {
     "name": "stdout",
     "output_type": "stream",
     "text": [
      "for h = 0.040000 and dt= 0.000000 error is 1.0281e-07\n",
      "for h = 0.040000 and dt= 0.000000 error is 6.7892e-08\n",
      "for h = 0.040000 and dt= 0.000000 error is 5.5184e-08\n",
      "for h = 0.040000 and dt= 0.000000 error is 4.8820e-08\n",
      "for h = 0.040000 and dt= 0.000000 error is 4.5055e-08\n",
      "for h = 0.020000 and dt= 0.000000 error is 3.1520e-08\n",
      "for h = 0.020000 and dt= 0.000000 error is 8.6316e-09\n",
      "for h = 0.020000 and dt= 0.000000 error is 3.5922e-09\n",
      "for h = 0.020000 and dt= 0.000000 error is 1.8767e-09\n",
      "for h = 0.020000 and dt= 0.000000 error is 1.1305e-09\n",
      "for h = 0.010000 and dt= 0.000000 error is 8.3312e-09\n",
      "for h = 0.010000 and dt= 0.000000 error is 6.6901e-10\n",
      "for h = 0.010000 and dt= 0.000000 error is 9.0238e-11\n",
      "for h = 0.010000 and dt= 0.000000 error is 1.6765e-11\n",
      "for h = 0.010000 and dt= 0.000000 error is 3.9054e-12\n",
      "for h = 0.005000 and dt= 0.000000 error is 5.9439e-09\n",
      "for h = 0.005000 and dt= 0.000000 error is 1.2319e-10\n",
      "for h = 0.005000 and dt= 0.000000 error is 4.5750e-12\n",
      "for h = 0.005000 and dt= 0.000000 error is 1.1803e-12\n",
      "for h = 0.005000 and dt= 0.000000 error is 1.1950e-12\n"
     ]
    }
   ],
   "source": [
    "size = [26, 51, 101, 201]\n",
    "t = 2\n",
    "so = [2, 4, 6, 8, 10]\n",
    "error = np.zeros((4, 5))\n",
    "# hh = [0.04, 0.02, 0.01, 0.005]\n",
    "hh = [1 .5, .25, .125]\n",
    "# hh = [4*h for h in hh]\n",
    "for i, s in enumerate(size):\n",
    "    for j, sso in enumerate(so):\n",
    "        error[i, j] = get_solution(s, sso)"
   ]
  },
  {
   "cell_type": "code",
   "execution_count": 339,
   "metadata": {},
   "outputs": [
    {
     "data": {
      "image/png": "[encoded data removed]",
      "text/plain": [
       "<Figure size 1080x720 with 1 Axes>"
      ]
     },
     "metadata": {},
     "output_type": "display_data"
    }
   ],
   "source": [
    "import matplotlib.pyplot as plt\n",
    "col = ['-ob', '-or', '-og', '-ok', '-oc']\n",
    "col_2 = ['--ob', '--or', '--og', '--ok', '--oc']\n",
    "plt.figure(figsize=(15, 10))\n",
    "for j, sso in enumerate(so):\n",
    "    plt.loglog(hh, hh[0]**so[j]*error[:, j]/error[0, j], col[j])\n",
    "    plt.loglog(hh, [h**so[j] for h in hh], col_2[j])\n",
    "\n",
    "# plt.loglog(hh, error[:, 3])\n",
    "# plt.loglog(hh, [h**so[3] for h in hh])"
   ]
  },
  {
   "cell_type": "code",
   "execution_count": 319,
   "metadata": {},
   "outputs": [
    {
     "data": {
      "text/plain": [
       "array([[1.02807293e-10, 6.78939868e-11, 5.51863631e-11, 4.88220433e-11,\n",
       "        4.50562313e-11],\n",
       "       [3.15175149e-11, 8.63015056e-12, 3.59181026e-12, 1.87423515e-12,\n",
       "        1.13005371e-12],\n",
       "       [8.33121596e-12, 6.66828595e-13, 9.13172913e-14, 2.22096826e-14,\n",
       "        1.53445487e-14],\n",
       "       [5.94403081e-12, 1.24364507e-13, 1.83190714e-14, 1.75270571e-14,\n",
       "        1.75386357e-14]])"
      ]
     },
     "execution_count": 319,
     "metadata": {},
     "output_type": "execute_result"
    }
   ],
   "source": [
    "error"
   ]
  },
  {
   "cell_type": "code",
   "execution_count": null,
   "metadata": {},
   "outputs": [],
   "source": []
  }
 ],
 "metadata": {
  "kernelspec": {
   "display_name": "Python 3",
   "language": "python",
   "name": "python3"
  },
  "language_info": {
   "codemirror_mode": {
    "name": "ipython",
    "version": 3
   },
   "file_extension": ".py",
   "mimetype": "text/x-python",
   "name": "python",
   "nbconvert_exporter": "python",
   "pygments_lexer": "ipython3",
   "version": "3.6.5"
  },
  "widgets": {
   "state": {},
   "version": "1.1.2"
  }
 },
 "nbformat": 4,
 "nbformat_minor": 1
}
