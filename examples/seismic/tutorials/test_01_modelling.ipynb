{
 "cells": [
  {
   "cell_type": "markdown",
   "metadata": {
    "collapsed": true
   },
   "source": [
    "# 01 - Introduction to seismic modelling\n",
    "\n",
    "This notebook is the first in a series of tutorial highlighting various aspects of seismic inversion based on Devito operators. In this first example we aim to highlight the core ideas behind seismic modelling, where we create a numerical model that captures the processes involved in a seismic survey. This forward model will then form the basis for further tutorials on the implementation of inversion processes using Devito operators.\n",
    "\n",
    "## Modelling workflow\n",
    "\n",
    "The core process we are aiming to model is a seismic survey, which consists of two main components:\n",
    "\n",
    "- **Source** - A source is positioned at a single or a few physical location where artificial pressure is injected into the domain we want to modelf. In the case of land survey, it is usually dynamite blowing up at a given location, or a vibroseis (a vibrating engine generating continuous  sound waves). For a marine survey, the source is an air gun sending a bubble of compressed air into the water that will expand and generate a seismic wave.\n",
    "- **Receiver** - A set set of microphones or hydrophones are used to measure the resulting wave and create a set of measurements called a *Shot Record*. These measurements are recoded at multiple locations, and usually at the surface of the domain or at the bottom of the ocean in some marine cases.\n",
    "\n",
    "In order to create a numerical model of a seismic survey, we need to solve the wave equation and implement source and receiver interpolation to inject the  source and record the seismic wave at sparse point locations in the grid.\n",
    "\n",
    "\n",
    "<img src='./survey-ship-diagram.png' width=400>"
   ]
  },
  {
   "cell_type": "markdown",
   "metadata": {},
   "source": [
    "## The acoustic seismic wave equation\n",
    "The acoustic wave equation for the square slowness $m$ defined as $m=\\frac{1}{c^2}$, where $c$ is the speed of sound in the given physical media, and a source $q$ is given by:\n",
    "\n",
    "\\begin{cases}\n",
    " &m \\frac{d^2 u(x,t)}{dt^2} - \\nabla^2 u(x,t) = q \\ \\text{in } \\Omega \\\\\n",
    " &u(.,t=0) = 0 \\\\\n",
    " &\\frac{d u(x,t)}{dt}|_{t=0} = 0 \n",
    "\\end{cases}\n",
    "\n",
    "with the zero initial conditons to guarantee unicity of the solution.\n",
    "The boundary condtions are Dirichlet conditions :\n",
    "\\begin{equation}\n",
    " u(x,t)|_\\delta\\Omega = 0\n",
    "\\end{equation}\n",
    "\n",
    "where $\\delta\\Omega$ is the surface of the boundary of the model $\\Omega$.\n",
    "\n",
    "\n",
    "# Finite domains\n",
    "\n",
    "The last piece of the puzzle is the computational limitation. In the field, the seismic wave propagates in every directions to an \"infinite\" distance. However, solving the wave equation in a mathematically/discrete infinite domain is not feasible. In order to compensate, Absorbing Boundary Conditions (ABC) or Perfctly Matched Layers (PML) are required to mimic an infinite domain. These two method allow to approximate an infinte media by damping and absorbing the waves at the limit of the domain to avoid reflections.\n",
    "\n",
    "The simplest of these methods is the absorbing damping mask. The core idea is to extend the physical domain and to add a Sponge mask in this extension that will absorb the incident waves. The acoustic wave equation with this damping mask can be rewritten as:\n",
    "\n",
    "\\begin{cases} \n",
    " &m \\frac{d^2 u(x,t)}{dt^2} - \\nabla^2 u(x,t) + \\eta \\frac{d u(x,t)}{dt}=q  \\ \\text{in } \\Omega \\\\\n",
    " &u(.,0) = 0 \\\\\n",
    " &\\frac{d u(x,t)}{dt}|_{t=0} = 0 \n",
    "\\end{cases}\n",
    "\n",
    "where $\\eta$ is the damping mask equal to $0$ inside the physical domain and increasing inside the sponge layer. Multiple choice of profile can be chosen for $\\eta$ from linear to exponential."
   ]
  },
  {
   "cell_type": "markdown",
   "metadata": {},
   "source": [
    "# Seismic modelling with devito\n",
    "\n",
    "We desribe here a step by step stup of seismic modelling with devito in a simple 2D case. We will create a physical model of our domain and define a single source and an according set of receivers to model for the forward model. But first, we initialise some basic utilities."
   ]
  },
  {
   "cell_type": "code",
   "execution_count": 1,
   "metadata": {
    "collapsed": true
   },
   "outputs": [],
   "source": [
    "import numpy as np\n",
    "%matplotlib inline"
   ]
  },
  {
   "cell_type": "markdown",
   "metadata": {},
   "source": [
    "## Define the physical problem\n",
    "\n",
    "The first step is to define the physical model:\n",
    "\n",
    "- What are the physical dimension of interest\n",
    "- What is the velocity profile of this pysical domain"
   ]
  },
  {
   "cell_type": "code",
   "execution_count": 2,
   "metadata": {},
   "outputs": [
    {
     "data": {
      "image/png": "[encoded data removed]",
      "text/plain": [
       "<matplotlib.figure.Figure at 0x7ff76886b390>"
      ]
     },
     "metadata": {},
     "output_type": "display_data"
    }
   ],
   "source": [
    "from examples.seismic import Model, plot_velocity\n",
    "\n",
    "# Define a physical size\n",
    "shape = (101, 101)  # Number of grid point (nx, nz)\n",
    "spacing = (10., 10.)  # Grid spacing in m. The domain size is now 1km by 1km\n",
    "origin = (0., 0.)  # What is the location of the top left corner. This is necessary to define\n",
    "# the absolute location of the source and receivers\n",
    "\n",
    "# Define a velocity profile. The velocity is in km/s\n",
    "v = np.empty(shape, dtype=np.float32)\n",
    "v[:, :51] = 1.5\n",
    "v[:, 51:] = 2.5\n",
    "\n",
    "# With the velocity and model size defined, we can create the seismic model that\n",
    "# encapsulate this properties. We also define the size of the absorbing layer as 10 grid points\n",
    "model = Model(vp=v, origin=origin, shape=shape,\n",
    "              spacing=spacing, nbpml=10)\n",
    "\n",
    "plot_velocity(model)"
   ]
  },
  {
   "cell_type": "markdown",
   "metadata": {},
   "source": [
    "# Acquisition geometry\n",
    "\n",
    "To fully define our problem setup we also need to define the source that injects the wave to model and the set of receiver locations at which to sample the wavefield. The source time signature will be modelled using a Ricker wavelet defined as\n",
    "\n",
    "\\begin{equation}\n",
    "  q(t) = (1-2\\pi^2 f_0^2 (t - \\frac{1}{f_0})^2 )e^{- \\pi^2 f_0^2 (t - \\frac{1}{f_0})}\n",
    "\\end{equation}\n",
    "\n",
    "To fully define the source signature we first need to define the time duration for our model and the timestep size, which is dictated by the CFL condition and our grid spacing. Luckily, our `Model` utility provides us with the critical timestep size, so we can fully discretize our model time axis as an array:"
   ]
  },
  {
   "cell_type": "code",
   "execution_count": 3,
   "metadata": {
    "collapsed": true
   },
   "outputs": [],
   "source": [
    "t0 = 0.  # Simulation starts a t=0\n",
    "tn = 1000.  # Simulation last 1 second (1000 ms)\n",
    "dt = model.critical_dt  # Time step from model grid spacing\n",
    "\n",
    "nt = int(1 + (tn-t0) / dt)  # Discrete time axis length\n",
    "time = np.linspace(t0, tn, nt)  # Discrete modelling time"
   ]
  },
  {
   "cell_type": "markdown",
   "metadata": {},
   "source": [
    "The source is positioned at a $20m$ depth and at the middle of the $x$ axis ($x_{src}=500m$), with a peak wavelet frequency of $10Hz$."
   ]
  },
  {
   "cell_type": "code",
   "execution_count": 4,
   "metadata": {},
   "outputs": [
    {
     "data": {
      "image/png": "[encoded data removed]",
      "text/plain": [
       "<matplotlib.figure.Figure at 0x7ff7907e3dd0>"
      ]
     },
     "metadata": {},
     "output_type": "display_data"
    }
   ],
   "source": [
    "from examples.seismic import RickerSource\n",
    "\n",
    "f0 = 0.010  # Source peak frequency is 10Hz (0.010 kHz)\n",
    "src = RickerSource(name='src', ndim=2, f0=f0, time=time)\n",
    "\n",
    "# First, position source centrally in all dimensions, then set depth\n",
    "src.coordinates.data[0, :] = np.array(model.domain_size) * .5\n",
    "src.coordinates.data[0, -1] = 20.  # Depth is 20m\n",
    "\n",
    "# We can plot the time signature to see the wavelet\n",
    "src.show()"
   ]
  },
  {
   "cell_type": "markdown",
   "metadata": {},
   "source": [
    "Similarly to our source object, we can now define our receiver geometry as a symbol of type `Receiver`. It is worth noting here that both utility classes, `RickerSource` and `Receiver` are thin wrappers around Devito's `PointData` type, which encapsulates sparse point data and allows us to inject and interpolate values into and out of the computational grid. As we have already seen, both types provide a `point.coordinates` property to define the position within the domain of all points encapsualted by that symbol. \n",
    "\n",
    "In this example we will position receivers at the same depth as the source, every $10m$ along the x axis. The `rec.data` property will be initialized, but left empty, as we will compute the receiver readings during the simulation."
   ]
  },
  {
   "cell_type": "code",
   "execution_count": 5,
   "metadata": {},
   "outputs": [
    {
     "data": {
      "image/png": "[encoded data removed]",
      "text/plain": [
       "<matplotlib.figure.Figure at 0x7ff76546fad0>"
      ]
     },
     "metadata": {},
     "output_type": "display_data"
    }
   ],
   "source": [
    "from examples.seismic import Receiver\n",
    "\n",
    "# Create symbol for 101 receivers\n",
    "rec = Receiver(name='rec', npoint=101, ntime=nt, ndim=2)\n",
    "\n",
    "# Prescribe even spacing for receivers along the x-axis\n",
    "rec.coordinates.data[:, 0] = np.linspace(0, model.domain_size[0], num=101)\n",
    "rec.coordinates.data[:, 1] = 20.  # Depth is 20m\n",
    "\n",
    "# We can now show the source and receivers within our domain:\n",
    "# Red dot: Source location\n",
    "# Green dots: Receiver locations (every 4th point)\n",
    "plot_velocity(model, source=src.coordinates.data,\n",
    "              receiver=rec.coordinates.data[::4, :])"
   ]
  },
  {
   "cell_type": "markdown",
   "metadata": {},
   "source": [
    "# Finite-difference discretization\n",
    "\n",
    "Devito is a finite-difference DSL that solves the discretized wave-equation on a cartesian grid. The finite-difference approximation is derived from Taylor expansions of the continuous field after removing the error term.\n",
    "\n",
    "## Time discretization\n",
    "\n",
    "We only consider the second order time discretization for now. From the Taylor expansion, the second order discrete approximation of the second order time derivative is:\n",
    "\\begin{equation}\n",
    "\\begin{aligned}\n",
    " \\frac{d^2 u(x,t)}{dt^2} = \\frac{\\mathbf{u}(\\mathbf{x},\\mathbf{t+\\Delta t}) - 2 \\mathbf{u}(\\mathbf{x},\\mathbf{t}) + \\mathbf{u}(\\mathbf{x},\\mathbf{t-\\Delta t})}{\\mathbf{\\Delta t}^2} + O(\\mathbf{\\Delta t}^2).\n",
    "\\end{aligned}\n",
    "\\end{equation} \n",
    "\n",
    "where $\\mathbf{u}$ is the discrete wavefield, $\\mathbf{\\Delta t}$ is the discrete\n",
    "time-step (distance between two consecutive discrete times) and $O(\\mathbf{\\Delta\n",
    "  t}^2)$ is the discretization error term. The discretized approximation of the\n",
    "second order time derivative is then given by dropping the error term. This derivative is represented in Devito by `u.dt2` where u is a `TimeData` object.\n",
    "\n",
    "## Spatial discretization \n",
    "\n",
    "We define the discrete Laplacian as the sum of the second order spatial\n",
    "derivatives in the three dimensions:\n",
    "\\begin{equation}\n",
    "\\begin{aligned}\n",
    "\\Delta \\mathbf{u}(\\mathbf{x},\\mathbf{y},\\mathbf{z},\\mathbf{t})= \\sum_{j=1}^{j=\\frac{k}{2}} \\Bigg[\\alpha_j \\Bigg(&\n",
    "\\mathbf{u}(\\mathbf{x+jdx},\\mathbf{y},\\mathbf{z},\\mathbf{t})+\\mathbf{u}(\\mathbf{x-jdx},\\mathbf{y},\\mathbf{z},\\mathbf{t}) + \\\\\n",
    "&\\mathbf{u}(\\mathbf{x},\\mathbf{y+jdy},\\mathbf{z},\\mathbf{t})+\\mathbf{u}(\\mathbf{x},\\mathbf{y-jdy},\\mathbf{z}\\mathbf{t}) + \\\\\n",
    "&\\mathbf{u}(\\mathbf{x},\\mathbf{y},\\mathbf{z+jdz},\\mathbf{t})+\\mathbf{u}(\\mathbf{x},\\mathbf{y},\\mathbf{z-jdz},\\mathbf{t})\\Bigg) \\Bigg] + \\\\\n",
    "&3\\alpha_0 \\mathbf{u}(\\mathbf{x},\\mathbf{y},\\mathbf{z},\\mathbf{t}).\n",
    "\\end{aligned}\n",
    "\\end{equation}\n",
    "\n",
    "This derivative is represented in Devito by `u.laplace` where u is a `TimeData` object.\n",
    "\n",
    "## Wave equation\n",
    "\n",
    "With the space and time discretization defined, we can fully discretize the\n",
    "wave-equation with the combination of time and space discretizations and obtain the following second order in time and\n",
    "$k^{th}$ order in space discrete stencil to update one grid point\n",
    "at position $\\mathbf{x}, \\mathbf{y},\\mathbf{z}$ at time $\\mathbf{t}$, i.e.\n",
    "\\begin{equation}\n",
    "\\begin{aligned}\n",
    "\\mathbf{u}(\\mathbf{x},\\mathbf{y},\\mathbf{z},\\mathbf{t+\\Delta t}) = &2\\mathbf{u}(\\mathbf{x},\\mathbf{y},\\mathbf{z},\\mathbf{t}) - \\mathbf{u}(\\mathbf{x},\\mathbf{y}, \\mathbf{z},\\mathbf{t-\\Delta t}) +\\\\\n",
    "& \\frac{\\mathbf{\\Delta t}^2}{\\mathbf{m(\\mathbf{x},\\mathbf{y},\\mathbf{z})}} \\Big(\\Delta \\mathbf{u}(\\mathbf{x},\\mathbf{y},\\mathbf{z},\\mathbf{t}) + \\mathbf{q}(\\mathbf{x},\\mathbf{y},\\mathbf{z},\\mathbf{t}) \\Big). \n",
    "\\end{aligned}\n",
    "\\end{equation}\n",
    "\n"
   ]
  },
  {
   "cell_type": "code",
   "execution_count": 6,
   "metadata": {
    "collapsed": true
   },
   "outputs": [],
   "source": [
    "# In order to represent the wavefield u and the square slowness we need symbolic object \n",
    "# corresponding to time-space-varying field (u, TimeData) and \n",
    "# space-varying field (m, DenseData)\n",
    "from devito import TimeData, t, time\n",
    "\n",
    "# Define the wavefield with the size of the model and the time dimension\n",
    "u = TimeData(name=\"u\", shape=model.shape_domain, time_order=2, space_order=2)\n",
    "\n",
    "# We can now write the PDE\n",
    "pde = model.m * u.dt2 - u.laplace + model.damp * u.dt\n",
    "\n",
    "# This discrete PDE can be solved in a time-marching way updating u(t+dt) from the previous time step\n",
    "# Devito as a shortcut for u(t+dt) which is u.forward. We can then rewrite the PDE as \n",
    "# a time marching updating equation known as a stencil using sympy functions\n",
    "from sympy import Eq, solve\n",
    "\n",
    "stencil = Eq(u.forward, solve(pde, u.forward)[0])"
   ]
  },
  {
   "cell_type": "markdown",
   "metadata": {},
   "source": [
    "# Source injection and receiver interpolation\n",
    "\n",
    "With a numerical schem to solve the homogenous wave equation, we need to add the source to introduce seismic waves and to implement the measurement operator, and interpolation operator. This operation are linked to the discrete scheme and need to be done at the proper time step. The semi-discretized in time wave equation with a source reads:\n",
    "\n",
    "\\begin{equation}\n",
    "\\begin{aligned}\n",
    "\\mathbf{u}(\\mathbf{x},\\mathbf{y},\\mathbf{z},\\mathbf{t+\\Delta t}) = &2\\mathbf{u}(\\mathbf{x},\\mathbf{y},\\mathbf{z},\\mathbf{t}) - \\mathbf{u}(\\mathbf{x},\\mathbf{y}, \\mathbf{z},\\mathbf{t-\\Delta t}) +\\\\\n",
    "& \\frac{\\mathbf{\\Delta t}^2}{\\mathbf{m(\\mathbf{x},\\mathbf{y},\\mathbf{z})}} \\Big(\\Delta \\mathbf{u}(\\mathbf{x},\\mathbf{y},\\mathbf{z},\\mathbf{t}) + \\mathbf{q}(\\mathbf{x},\\mathbf{y},\\mathbf{z},\\mathbf{t}) \\Big). \n",
    "\\end{aligned}\n",
    "\\end{equation}\n",
    "\n",
    "It shows that in order to update $\\mathbf{u}$ at time $\\mathbf{t+\\Delta t}$ we have to inject the value of the source term $\\mathbf{q}$ of time $\\mathbf{t}$. In devito, it correspond the update of $u$ at index $t+1$ (t = time implicitly) with the source of time $t$.\n",
    "On the receiver side, the problem is eithier as it only require to record the data at the given time step $t$ for the in the receiver at time $time=t$.\n"
   ]
  },
  {
   "cell_type": "code",
   "execution_count": 7,
   "metadata": {
    "collapsed": true
   },
   "outputs": [],
   "source": [
    "# Finally we define the source injection and receiver read function to generate the corresponding code\n",
    "src_term = src.inject(field=u.forward, expr=src * dt**2 / model.m, offset=model.nbpml)\n",
    "\n",
    "# Create interpolation expression for receivers\n",
    "rec_term = rec.interpolate(expr=u, offset=model.nbpml)"
   ]
  },
  {
   "cell_type": "markdown",
   "metadata": {},
   "source": [
    "# Devito operator and solve\n",
    "After constructing all the necessary expressions for updating the wavefield, injecting the source term and interpolating onto the receiver points, we can now create the Devito operator that will generate the C code at runtime. When creating the operator, Devito's two optimization engines will log which performance optimizations have been performed:\n",
    "* **DSE:** The Devito Symbolics Engine will attempt to reduce the number of operations required by the kernel.\n",
    "* **DLE:** The Devito Loop Engine will perform various loop-level optimizations to improve runtime performance."
   ]
  },
  {
   "cell_type": "code",
   "execution_count": 8,
   "metadata": {},
   "outputs": [
    {
     "name": "stderr",
     "output_type": "stream",
     "text": [
      "DSE: extract_time_invariants [flops: 22, elapsed: 0.01] >>\n",
      "     eliminate_inter_stencil_redundancies [flops: 22, elapsed: 0.01] >>\n",
      "     eliminate_intra_stencil_redundancies [flops: 22, elapsed: 0.01] >>\n",
      "     factorize [flops: 19, elapsed: 0.02] >>\n",
      "     finalize [flops: 19, elapsed: 0.00]\n",
      "     [Total elapsed: 0.04 s]\n",
      "DLE: analyze [elapsed: 0.02] >>\n",
      "     avoid_denormals [elapsed: 0.00] >>\n",
      "     loop_fission [elapsed: 0.01] >>\n",
      "     loop_blocking [elapsed: 0.03] >>\n",
      "     simdize [elapsed: 1.10] >>\n",
      "     create_elemental_functions [elapsed: 0.01] >>\n",
      "     minimize_remainders [elapsed: 0.01]\n",
      "     [Total elapsed: 1.18 s]\n"
     ]
    }
   ],
   "source": [
    "from devito import Operator, x, y, t\n",
    "\n",
    "op = Operator([stencil] + src_term + rec_term,\n",
    "              subs={t.spacing: dt, x.spacing: spacing[0],\n",
    "                    y.spacing: spacing[1]})"
   ]
  },
  {
   "cell_type": "markdown",
   "metadata": {},
   "source": [
    "Now we can execute the create operator for a number of timesteps."
   ]
  },
  {
   "cell_type": "code",
   "execution_count": 9,
   "metadata": {},
   "outputs": [
    {
     "name": "stderr",
     "output_type": "stream",
     "text": [
      "CustomCompiler: compiled /tmp/devito-1000/9d670615779377717187e036cb156fb06c0694e1.c [0.31 s]\n",
      "=========================================================================================\n",
      "Section section_1<594,1> with OI=0.73 computed in 0.000 s [Perf: 0.20 GFlops/s]\n",
      "Section section_2<594,101> with OI=1.37 computed in 0.001 s [Perf: 1.50 GFlops/s]\n",
      "Section main<594,119,119> with OI=1.14 computed in 0.018 s [Perf: 8.68 GFlops/s]\n",
      "=========================================================================================\n"
     ]
    }
   ],
   "source": [
    "op(time=nt)"
   ]
  },
  {
   "cell_type": "markdown",
   "metadata": {},
   "source": [
    "After running our operator kernel the data associated with the receiver symbol `recc.data` has now been populated due to the interpolation expression we inserted into the operator. This allows us the visualize the shot record:"
   ]
  },
  {
   "cell_type": "code",
   "execution_count": 10,
   "metadata": {},
   "outputs": [
    {
     "data": {
      "image/png": "[encoded data removed]",
      "text/plain": [
       "<matplotlib.figure.Figure at 0x7ff7653e6d10>"
      ]
     },
     "metadata": {},
     "output_type": "display_data"
    }
   ],
   "source": [
    "from examples.seismic import plot_shotrecord\n",
    "\n",
    "plot_shotrecord(rec.data, model, t0, tn)"
   ]
  },
  {
   "cell_type": "code",
   "execution_count": null,
   "metadata": {
    "collapsed": true
   },
   "outputs": [],
   "source": []
  }
 ],
 "metadata": {
  "anaconda-cloud": {},
  "kernelspec": {
   "display_name": "Python 2",
   "language": "python",
   "name": "python2"
  },
  "language_info": {
   "codemirror_mode": {
    "name": "ipython",
    "version": 2
   },
   "file_extension": ".py",
   "mimetype": "text/x-python",
   "name": "python",
   "nbconvert_exporter": "python",
   "pygments_lexer": "ipython2",
   "version": "2.7.13"
  }
 },
 "nbformat": 4,
 "nbformat_minor": 1
}
