{
 "cells": [
  {
   "cell_type": "code",
   "execution_count": 1,
   "metadata": {},
   "outputs": [],
   "source": [
    "from devito import Grid\n",
    "\n",
    "shape = (10, )\n",
    "\n",
    "grid = Grid(shape=shape)"
   ]
  },
  {
   "cell_type": "code",
   "execution_count": 2,
   "metadata": {},
   "outputs": [],
   "source": [
    "from devito import TimeFunction, Function\n",
    "\n",
    "u = TimeFunction(name='u', grid=grid, time_order=2, space_order=2)\n",
    "v = TimeFunction(name='v', grid=grid, time_order=2, space_order=2)\n",
    "m = Function(name='m', grid=grid)\n",
    "damp = Function(name='damp', grid=grid)"
   ]
  },
  {
   "cell_type": "code",
   "execution_count": 11,
   "metadata": {},
   "outputs": [],
   "source": [
    "fwpde = m * u.dt2 - u.laplace + damp * u.dt\n",
    "\n",
    "# This discrete PDE can be solved in a time-marching way updating u(t+dt) from the previous time step\n",
    "# Devito as a shortcut for u(t+dt) which is u.forward. We can then rewrite the PDE as \n",
    "# a time marching updating equation known as a stencil using customized SymPy functions\n",
    "from devito import Eq, solve\n",
    "\n",
    "fwstencil = Eq(u.forward, solve(fwpde, u.forward))"
   ]
  },
  {
   "cell_type": "code",
   "execution_count": 12,
   "metadata": {},
   "outputs": [],
   "source": [
    "# Define the wave equation, but with a negated damping term\n",
    "adjeqn = m * v.dt2 - v.laplace - damp * v.dt\n",
    "\n",
    "# Use `solve` to rearrange the equation into a stencil expression\n",
    "adjstencil = Eq(v.backward, solve(adjeqn, v.backward))"
   ]
  },
  {
   "cell_type": "code",
   "execution_count": 13,
   "metadata": {},
   "outputs": [
    {
     "data": {
      "text/plain": [
       "Eq(u(t + dt, x), -2.0*dt**3*u(t, x)/(0.5*dt**2*h_x**2*damp(x) + dt*h_x**2*m(x)) + dt**3*u(t, x - h_x)/(0.5*dt**2*h_x**2*damp(x) + dt*h_x**2*m(x)) + dt**3*u(t, x + h_x)/(0.5*dt**2*h_x**2*damp(x) + dt*h_x**2*m(x)) + 0.5*dt**2*h_x**2*damp(x)*u(t - dt, x)/(0.5*dt**2*h_x**2*damp(x) + dt*h_x**2*m(x)) + 2.0*dt*h_x**2*m(x)*u(t, x)/(0.5*dt**2*h_x**2*damp(x) + dt*h_x**2*m(x)) - dt*h_x**2*m(x)*u(t - dt, x)/(0.5*dt**2*h_x**2*damp(x) + dt*h_x**2*m(x)))"
      ]
     },
     "execution_count": 13,
     "metadata": {},
     "output_type": "execute_result"
    }
   ],
   "source": [
    "fwstencil"
   ]
  },
  {
   "cell_type": "code",
   "execution_count": 14,
   "metadata": {},
   "outputs": [
    {
     "data": {
      "text/plain": [
       "Eq(v(t - dt, x), -2.0*dt**3*v(t, x)/(0.5*dt**2*h_x**2*damp(x) + dt*h_x**2*m(x)) + dt**3*v(t, x - h_x)/(0.5*dt**2*h_x**2*damp(x) + dt*h_x**2*m(x)) + dt**3*v(t, x + h_x)/(0.5*dt**2*h_x**2*damp(x) + dt*h_x**2*m(x)) + 0.5*dt**2*h_x**2*damp(x)*v(t + dt, x)/(0.5*dt**2*h_x**2*damp(x) + dt*h_x**2*m(x)) + 2.0*dt*h_x**2*m(x)*v(t, x)/(0.5*dt**2*h_x**2*damp(x) + dt*h_x**2*m(x)) - dt*h_x**2*m(x)*v(t + dt, x)/(0.5*dt**2*h_x**2*damp(x) + dt*h_x**2*m(x)))"
      ]
     },
     "execution_count": 14,
     "metadata": {},
     "output_type": "execute_result"
    }
   ],
   "source": [
    "adjstencil"
   ]
  },
  {
   "cell_type": "code",
   "execution_count": 28,
   "metadata": {},
   "outputs": [
    {
     "name": "stdout",
     "output_type": "stream",
     "text": [
      "Derivative w.r.t.  u(t + dt, x)  is  0\n",
      "****\n",
      "Derivative w.r.t.  u(t, x - h_x)  is  dt**3/(0.5*dt**2*h_x**2*damp(x) + dt*h_x**2*m(x))\n",
      "****\n",
      "Derivative w.r.t.  u(t, x + h_x)  is  dt**3/(0.5*dt**2*h_x**2*damp(x) + dt*h_x**2*m(x))\n",
      "****\n",
      "Derivative w.r.t.  u(t, x)  is  -2.0*dt**3/(0.5*dt**2*h_x**2*damp(x) + dt*h_x**2*m(x)) + 2.0*dt*h_x**2*m(x)/(0.5*dt**2*h_x**2*damp(x) + dt*h_x**2*m(x))\n",
      "****\n",
      "Derivative w.r.t.  u(t - dt, x)  is  0.5*dt**2*h_x**2*damp(x)/(0.5*dt**2*h_x**2*damp(x) + dt*h_x**2*m(x)) - dt*h_x**2*m(x)/(0.5*dt**2*h_x**2*damp(x) + dt*h_x**2*m(x))\n",
      "****\n"
     ]
    }
   ],
   "source": [
    "from sympy import diff\n",
    "from devito.symbolics import retrieve_functions\n",
    "\n",
    "t = grid.stepping_dim\n",
    "(x, ) = grid.dimensions\n",
    "hx = x.spacing\n",
    "\n",
    "fns = retrieve_functions(fwstencil)\n",
    "\n",
    "for fn in fns:\n",
    "    if not fn.is_TimeFunction:\n",
    "        continue\n",
    "    derivative = fwstencil.rhs.diff(fn).doit()\n",
    "    print(\"Derivative w.r.t. \", fn, \" is \", derivative.doit())\n",
    "    print(\"****\")"
   ]
  },
  {
   "cell_type": "code",
   "execution_count": 24,
   "metadata": {},
   "outputs": [
    {
     "name": "stdout",
     "output_type": "stream",
     "text": [
      "#define _POSIX_C_SOURCE 200809L\n",
      "#include \"stdlib.h\"\n",
      "#include \"math.h\"\n",
      "#include \"sys/time.h\"\n",
      "\n",
      "struct dataobj\n",
      "{\n",
      "  void *restrict data;\n",
      "  int * size;\n",
      "  int * npsize;\n",
      "  int * dsize;\n",
      "  int * hsize;\n",
      "  int * hofs;\n",
      "  int * oofs;\n",
      "} ;\n",
      "\n",
      "struct profiler\n",
      "{\n",
      "  double section0;\n",
      "} ;\n",
      "\n",
      "\n",
      "int Kernel(struct dataobj *restrict damp_vec, const float dt, const float h_x, struct dataobj *restrict m_vec, struct dataobj *restrict u_vec, const int time_M, const int time_m, struct profiler * timers, const int x_M, const int x_m)\n",
      "{\n",
      "  float (*restrict damp) __attribute__ ((aligned (64))) = (float (*)) damp_vec->data;\n",
      "  float (*restrict m) __attribute__ ((aligned (64))) = (float (*)) m_vec->data;\n",
      "  float (*restrict u)[u_vec->size[1]] __attribute__ ((aligned (64))) = (float (*)[u_vec->size[1]]) u_vec->data;\n",
      "  for (int time = time_m, t0 = (time)%(3), t1 = (time + 1)%(3), t2 = (time + 2)%(3); time <= time_M; time += 1, t0 = (time)%(3), t1 = (time + 1)%(3), t2 = (time + 2)%(3))\n",
      "  {\n",
      "    struct timeval start_section0, end_section0;\n",
      "    gettimeofday(&start_section0, NULL);\n",
      "    /* Begin section0 */\n",
      "    for (int x = x_m; x <= x_M; x += 1)\n",
      "    {\n",
      "      u[t1][x + 2] = pow(dt, 3)*u[t0][x + 1]/(5.0e-1F*pow(dt, 2)*pow(h_x, 2)*damp[x + 1] + dt*pow(h_x, 2)*m[x + 1]) - 2.0F*pow(dt, 3)*u[t0][x + 2]/(5.0e-1F*pow(dt, 2)*pow(h_x, 2)*damp[x + 1] + dt*pow(h_x, 2)*m[x + 1]) + pow(dt, 3)*u[t0][x + 3]/(5.0e-1F*pow(dt, 2)*pow(h_x, 2)*damp[x + 1] + dt*pow(h_x, 2)*m[x + 1]) + 5.0e-1F*pow(dt, 2)*pow(h_x, 2)*damp[x + 1]*u[t2][x + 2]/(5.0e-1F*pow(dt, 2)*pow(h_x, 2)*damp[x + 1] + dt*pow(h_x, 2)*m[x + 1]) + 2.0F*dt*pow(h_x, 2)*m[x + 1]*u[t0][x + 2]/(5.0e-1F*pow(dt, 2)*pow(h_x, 2)*damp[x + 1] + dt*pow(h_x, 2)*m[x + 1]) - dt*pow(h_x, 2)*m[x + 1]*u[t2][x + 2]/(5.0e-1F*pow(dt, 2)*pow(h_x, 2)*damp[x + 1] + dt*pow(h_x, 2)*m[x + 1]);\n",
      "    }\n",
      "    /* End section0 */\n",
      "    gettimeofday(&end_section0, NULL);\n",
      "    timers->section0 += (double)(end_section0.tv_sec-start_section0.tv_sec)+(double)(end_section0.tv_usec-start_section0.tv_usec)/1000000;\n",
      "  }\n",
      "  return 0;\n",
      "}\n",
      "\n"
     ]
    }
   ],
   "source": [
    "from devito import Operator\n",
    "print(Operator(fwstencil, dle='noop', dse='noop'))"
   ]
  },
  {
   "cell_type": "code",
   "execution_count": null,
   "metadata": {},
   "outputs": [],
   "source": []
  },
  {
   "cell_type": "code",
   "execution_count": 23,
   "metadata": {},
   "outputs": [
    {
     "name": "stdout",
     "output_type": "stream",
     "text": [
      "#define _POSIX_C_SOURCE 200809L\n",
      "#include \"stdlib.h\"\n",
      "#include \"math.h\"\n",
      "#include \"sys/time.h\"\n",
      "#include \"xmmintrin.h\"\n",
      "#include \"pmmintrin.h\"\n",
      "\n",
      "struct dataobj\n",
      "{\n",
      "  void *restrict data;\n",
      "  int * size;\n",
      "  int * npsize;\n",
      "  int * dsize;\n",
      "  int * hsize;\n",
      "  int * hofs;\n",
      "  int * oofs;\n",
      "} ;\n",
      "\n",
      "struct profiler\n",
      "{\n",
      "  double section0;\n",
      "} ;\n",
      "\n",
      "\n",
      "int Kernel(struct dataobj *restrict damp_vec, const float dt, const float h_x, struct dataobj *restrict m_vec, struct dataobj *restrict v_vec, const int time_M, const int time_m, struct profiler * timers, const int x_M, const int x_m)\n",
      "{\n",
      "  float (*restrict damp) __attribute__ ((aligned (64))) = (float (*)) damp_vec->data;\n",
      "  float (*restrict m) __attribute__ ((aligned (64))) = (float (*)) m_vec->data;\n",
      "  float (*restrict v)[v_vec->size[1]] __attribute__ ((aligned (64))) = (float (*)[v_vec->size[1]]) v_vec->data;\n",
      "  /* Flush denormal numbers to zero in hardware */\n",
      "  _MM_SET_DENORMALS_ZERO_MODE(_MM_DENORMALS_ZERO_ON);\n",
      "  _MM_SET_FLUSH_ZERO_MODE(_MM_FLUSH_ZERO_ON);\n",
      "  for (int time = time_M, t0 = (time)%(3), t1 = (time + 1)%(3), t2 = (time + 2)%(3); time >= time_m; time -= 1, t0 = (time)%(3), t1 = (time + 1)%(3), t2 = (time + 2)%(3))\n",
      "  {\n",
      "    struct timeval start_section0, end_section0;\n",
      "    gettimeofday(&start_section0, NULL);\n",
      "    /* Begin section0 */\n",
      "    for (int x = x_m; x <= x_M; x += 1)\n",
      "    {\n",
      "      float r0 = dt*(h_x*h_x)*m[x + 1] + 5.0e-1F*(dt*dt)*(h_x*h_x)*damp[x + 1];\n",
      "      v[t2][x + 2] = -(dt*(h_x*h_x)*m[x + 1]*v[t1][x + 2]/r0 + 2.0F*(dt*dt*dt)*v[t0][x + 2]/r0) + 2.0F*dt*(h_x*h_x)*m[x + 1]*v[t0][x + 2]/r0 + 5.0e-1F*(dt*dt)*(h_x*h_x)*damp[x + 1]*v[t1][x + 2]/r0 + (dt*dt*dt)*v[t0][x + 1]/r0 + (dt*dt*dt)*v[t0][x + 3]/r0;\n",
      "    }\n",
      "    /* End section0 */\n",
      "    gettimeofday(&end_section0, NULL);\n",
      "    timers->section0 += (double)(end_section0.tv_sec-start_section0.tv_sec)+(double)(end_section0.tv_usec-start_section0.tv_usec)/1000000;\n",
      "  }\n",
      "  return 0;\n",
      "}\n",
      "\n"
     ]
    }
   ],
   "source": [
    "print(Operator(adjstencil))"
   ]
  },
  {
   "cell_type": "code",
   "execution_count": null,
   "metadata": {},
   "outputs": [],
   "source": []
  }
 ],
 "metadata": {
  "kernelspec": {
   "display_name": "Python 3",
   "language": "python",
   "name": "python3"
  },
  "language_info": {
   "codemirror_mode": {
    "name": "ipython",
    "version": 3
   },
   "file_extension": ".py",
   "mimetype": "text/x-python",
   "name": "python",
   "nbconvert_exporter": "python",
   "pygments_lexer": "ipython3",
   "version": "3.6.8"
  }
 },
 "nbformat": 4,
 "nbformat_minor": 2
}
